{
 "cells": [
  {
   "cell_type": "markdown",
   "metadata": {},
   "source": [
    "# Running Ollama locally. \n",
    "\n",
    "Ollama is an innovative platform that simplifies the process of running large language models (LLMs) locally on personal computers or servers. Developed with a vision to democratize access to AI, Ollama allows users to easily download, run, and interact with various open-source language models without the need for extensive technical knowledge or powerful hardware.\n",
    "\n",
    "Key features of Ollama include:\n",
    "\n",
    "1. Local execution: Users can run LLMs on their own machines, addressing privacy concerns associated with cloud-based solutions.\n",
    "\n",
    "2. User-friendly interface: Ollama provides a simple, Docker-like command-line interface for managing and interacting with models.\n",
    "\n",
    "3. Wide model support: It offers access to a range of models, from smaller ones like Phi-3 Mini 3.8B to larger ones like Llama 2 70B.\n",
    "\n",
    "4. Custom model creation: Users can create and modify models using Modelfiles, allowing for personalized AI assistants.\n",
    "\n",
    "5. Multi-platform support: Ollama is available for macOS, Linux, and Windows (via WSL).\n",
    "\n",
    "Ollama has gained popularity among hobbyists and professionals alike, making it possible for even those with limited coding skills to experiment with and utilize LLMs in their projects. Its simplicity and accessibility have made it a valuable tool for those looking to explore the capabilities of AI language models without the complexities typically associated with running such systems.\n",
    "\n",
    "\n",
    "\n",
    "## Here are the steps to download and install Ollama:\n",
    "\n",
    "1. Visit the official Ollama website (ollama.com).\n",
    "\n",
    "2. Click on the \"Download\" button on the homepage.\n",
    "\n",
    "3. Select the appropriate version for your operating system (Linux, Mac, or Windows).\n",
    "\n",
    "4. For Windows and Mac, the installer will be downloaded as an .exe or .zip file. For Linux, you'll need to run a curl command provided on the site.\n",
    "\n",
    "5. Once downloaded, run the installer:\n",
    "   - On Windows, double-click the .exe file\n",
    "   - On Mac, open the .zip file and follow the installation prompts\n",
    "   - On Linux, execute the curl command in your terminal\n",
    "\n",
    "6. After installation, Ollama will open a command prompt or terminal window.\n",
    "\n",
    "7. You'll be prompted to install an initial model, typically LLaMA 3.\n",
    "\n",
    "8. Once installed, you can start using Ollama by entering text in the command prompt/terminal.\n",
    "\n",
    "9. To run a specific model, use the command: `ollama run [model_name]`\n",
    "\n",
    "10. You can install additional models using the same `ollama run [model_name]` command, which will automatically download and install the specified model.\n",
    "\n",
    "Remember to check the system requirements before installation, especially for running larger language models. Also, consider joining the Ollama community forums or Discord for support and updates.\n",
    "\n",
    "\n",
    "Follow the notebook along to infer from your local machine. "
   ]
  },
  {
   "cell_type": "code",
   "execution_count": null,
   "metadata": {},
   "outputs": [],
   "source": [
    "!pip3 install langchain-community langchain-core"
   ]
  },
  {
   "cell_type": "code",
   "execution_count": 2,
   "metadata": {},
   "outputs": [],
   "source": [
    "from langchain_community.llms import Ollama"
   ]
  },
  {
   "cell_type": "markdown",
   "metadata": {},
   "source": [
    "# Are you facing issues with the Ollama import? try virutal environment if you are not already on it. solves a ton of issues"
   ]
  },
  {
   "cell_type": "code",
   "execution_count": 3,
   "metadata": {},
   "outputs": [
    {
     "data": {
      "text/plain": [
       "'A historic question!\\n\\nThe first humans to walk on the Moon were Neil Armstrong and Edwin \"Buzz\" Aldrin. They landed on July 20, 1969, as part of the Apollo 11 mission.\\n\\nNeil Armstrong was the first person to set foot on the Moon\\'s surface. He stepped out of the lunar module Eagle at 2:56 UTC (Coordinated Universal Time) on July 21, 1969, and famously declared, \"That\\'s one small step for man, one giant leap for mankind.\"\\n\\nBuzz Aldrin joined Armstrong on the surface about 20 minutes later. The two astronauts spent about two and a half hours on the Moon\\'s surface, collecting samples and conducting experiments.\\n\\nThe Apollo 11 mission was a historic achievement that marked the first time humans had visited another celestial body. It was a major milestone in space exploration and paved the way for future human spaceflight missions.'"
      ]
     },
     "execution_count": 3,
     "metadata": {},
     "output_type": "execute_result"
    }
   ],
   "source": [
    "llm = Ollama(model=\"llama3\")\n",
    "llm.invoke(\"Who is the first man on the moon\")"
   ]
  }
 ],
 "metadata": {
  "kernelspec": {
   "display_name": "Python 3",
   "language": "python",
   "name": "python3"
  },
  "language_info": {
   "codemirror_mode": {
    "name": "ipython",
    "version": 3
   },
   "file_extension": ".py",
   "mimetype": "text/x-python",
   "name": "python",
   "nbconvert_exporter": "python",
   "pygments_lexer": "ipython3",
   "version": "3.11.5"
  }
 },
 "nbformat": 4,
 "nbformat_minor": 2
}
